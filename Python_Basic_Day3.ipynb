{
  "nbformat": 4,
  "nbformat_minor": 0,
  "metadata": {
    "colab": {
      "name": "Python Basic Day3.ipynb",
      "provenance": [],
      "authorship_tag": "ABX9TyMjwuALpXktbJv/q1naXzSd",
      "include_colab_link": true
    },
    "kernelspec": {
      "name": "python3",
      "display_name": "Python 3"
    },
    "language_info": {
      "name": "python"
    }
  },
  "cells": [
    {
      "cell_type": "markdown",
      "metadata": {
        "id": "view-in-github",
        "colab_type": "text"
      },
      "source": [
        "<a href=\"https://colab.research.google.com/github/jeungsengho/PythonBasic/blob/main/Python_Basic_Day3.ipynb\" target=\"_parent\"><img src=\"https://colab.research.google.com/assets/colab-badge.svg\" alt=\"Open In Colab\"/></a>"
      ]
    },
    {
      "cell_type": "code",
      "execution_count": null,
      "metadata": {
        "id": "e_zB9qWnqjgu"
      },
      "outputs": [],
      "source": [
        "# List Tuple Dict Set\n",
        "\n",
        "# List   : []  indexing/slicing     mutable(del,ins)   [1]\n",
        "# Tuple  : ()  indexing/slicing     immutable          (1,) 원소 1개를 저장할 때 반드시 쉼표를 붙인다 \n",
        "# Dict   : {}  X (순서가 없다)      mutable(del,ins)   {'key':'value'}\n",
        "# Set    : {}  X (순서가 없다)      mutable(del,ins)   {1, 2, 3}"
      ]
    },
    {
      "cell_type": "code",
      "source": [
        "# p.049 1번\n",
        "\n",
        "no = '31025'\n",
        "a = no[0] # indexing\n",
        "b = no[1:3] # slicing [이상:미만]\n",
        "c = no[3:]\n",
        "print(a,'학년',b,'반',c,'번')\n",
        "print(f'{a}학년 {b}반 {c}번')"
      ],
      "metadata": {
        "colab": {
          "base_uri": "https://localhost:8080/"
        },
        "id": "yIPSIdPftRRu",
        "outputId": "9b38f231-eedd-487c-cc9e-62b0345a981f"
      },
      "execution_count": null,
      "outputs": [
        {
          "output_type": "stream",
          "name": "stdout",
          "text": [
            "3 학년 10 반 25 번\n",
            "3학년 10반 25번\n"
          ]
        }
      ]
    },
    {
      "cell_type": "code",
      "source": [
        "# p.049 2번\n",
        "\n",
        "no = '서울2가1234'  # 10가1234, 288가1234\n",
        "no4 = no[-4:]\n",
        "print(f'{no}의 차량번호 4자리는 {no4}입니다.')"
      ],
      "metadata": {
        "colab": {
          "base_uri": "https://localhost:8080/"
        },
        "id": "4KLrBqEctZoC",
        "outputId": "622799ba-2268-4128-8db9-4386ade75dca"
      },
      "execution_count": null,
      "outputs": [
        {
          "output_type": "stream",
          "name": "stdout",
          "text": [
            "서울2가1234의 차량번호 4자리는 1234입니다.\n"
          ]
        }
      ]
    },
    {
      "cell_type": "code",
      "source": [
        "# p.049 3번\n",
        "\n",
        "s = 'maple'\n",
        "center = s[len(s) // 2]   # // 나머지를 버리고 몫만 취하는 함수\n",
        "                            # %  몫은 버리고 나머지만 취하는 함수 \n",
        "print(f'{s}의 가운데 글자는 {center}입니다.')"
      ],
      "metadata": {
        "colab": {
          "base_uri": "https://localhost:8080/"
        },
        "id": "QOeAcgPfvZ08",
        "outputId": "04bf8755-a235-4c75-da5d-15cad2beafd0"
      },
      "execution_count": null,
      "outputs": [
        {
          "output_type": "stream",
          "name": "stdout",
          "text": [
            "maple의 가운데 글자는 p입니다.\n"
          ]
        }
      ]
    },
    {
      "cell_type": "code",
      "source": [
        "# p.049 4번\n",
        "\n",
        "li = [10, 20, 30, 40, 50, 60, 70, 80, 90, 100]\n",
        "li1 = li[2:7]\n",
        "li2 = li1[1]\n",
        "print(f'3번째 요소부터 7번째 요소 = {li1}')\n",
        "print(f'3번째 요소부터 7번째 요소 중 2번째 요소 = {li2}')"
      ],
      "metadata": {
        "colab": {
          "base_uri": "https://localhost:8080/"
        },
        "id": "Qo24rdcNv8-O",
        "outputId": "5590bf1a-fe00-48e5-9ada-3deb5618dfd2"
      },
      "execution_count": null,
      "outputs": [
        {
          "output_type": "stream",
          "name": "stdout",
          "text": [
            "3번째 요소부터 7번째 요소 = [30, 40, 50, 60, 70]\n",
            "3번째 요소부터 7번째 요소 중 2번째 요소 = 40\n"
          ]
        }
      ]
    },
    {
      "cell_type": "code",
      "source": [
        "# p.049 5번\n",
        "\n",
        "dict = {'금요일':'탕수육', '토요일':'유산슬', '일요일':'팔보채'}\n",
        "print('금요일:',dict['금요일'])\n",
        "print('토요일:',dict['토요일'])\n",
        "print('일요일:',dict['일요일'])"
      ],
      "metadata": {
        "colab": {
          "base_uri": "https://localhost:8080/"
        },
        "id": "4RvGuvcaIM1r",
        "outputId": "c9d1aa74-447d-4ff5-df4b-599d58882df7"
      },
      "execution_count": null,
      "outputs": [
        {
          "output_type": "stream",
          "name": "stdout",
          "text": [
            "금요일: 탕수육\n",
            "토요일: 유산슬\n",
            "일요일: 팔보채\n"
          ]
        }
      ]
    },
    {
      "cell_type": "code",
      "source": [
        "# \\n 줄바꿈 line feed\n",
        "# \\t 탭     tab\n",
        "\n",
        "print('Hello \\'World\\'')      # ' 앞에 \\ 기호를 넣어주면 ' 의 기능이 없어지고 문자(글자화)로 인식된다.\n",
        "print(\"Hello 'World'\")\n",
        "print('Hello \"World\"')\n",
        "\n",
        "print('*\\n**\\n***')\n",
        "\n",
        "print('Hello\\nWorld')\n",
        "\n",
        "print('이름\\t연락처')\n",
        "print('제시카\\t02-123-4567')\n",
        "print('마틴\\t010-8765-1234')"
      ],
      "metadata": {
        "colab": {
          "base_uri": "https://localhost:8080/"
        },
        "id": "uPzERTy4IlQa",
        "outputId": "b23f9d0f-591e-44c5-d812-c5e524d28a06"
      },
      "execution_count": null,
      "outputs": [
        {
          "output_type": "stream",
          "name": "stdout",
          "text": [
            "Hello 'World'\n",
            "Hello 'World'\n",
            "Hello \"World\"\n",
            "*\n",
            "**\n",
            "***\n",
            "Hello\n",
            "World\n",
            "이름\t연락처\n",
            "제시카\t02-123-4567\n",
            "마틴\t010-8765-1234\n"
          ]
        }
      ]
    },
    {
      "cell_type": "code",
      "source": [
        "print('Hello 'World'')"
      ],
      "metadata": {
        "colab": {
          "base_uri": "https://localhost:8080/",
          "height": 137
        },
        "id": "YHypualmJSew",
        "outputId": "618c4c7b-28bc-42dc-c48e-52a158a7137e"
      },
      "execution_count": null,
      "outputs": [
        {
          "output_type": "error",
          "ename": "SyntaxError",
          "evalue": "ignored",
          "traceback": [
            "\u001b[0;36m  File \u001b[0;32m\"<ipython-input-38-5cbe35164d5c>\"\u001b[0;36m, line \u001b[0;32m1\u001b[0m\n\u001b[0;31m    print('Hello 'World'')      # ' 앞에 \\ 기호를 넣어주면 ' 의 기능이 없어지고 문자(글자화)로 인식된다.\u001b[0m\n\u001b[0m                      ^\u001b[0m\n\u001b[0;31mSyntaxError\u001b[0m\u001b[0;31m:\u001b[0m invalid syntax\n"
          ]
        }
      ]
    },
    {
      "cell_type": "code",
      "source": [
        "# print() 함수\n",
        "\n",
        "print('재미있는','파이썬')\n",
        "print('Python', 'Java', 'C', sep=',')   # sep=',' -> 띄어쓰기를 쉼표로 변환 (구분자)\n",
        "print('Python', 'Java', 'C', sep='/')\n",
        "print('Python', 'Java', 'C', sep=':')"
      ],
      "metadata": {
        "colab": {
          "base_uri": "https://localhost:8080/"
        },
        "id": "ZfqAthpwKK9l",
        "outputId": "0ec35cbc-3b9c-4b88-da4a-0d78ea510845"
      },
      "execution_count": null,
      "outputs": [
        {
          "output_type": "stream",
          "name": "stdout",
          "text": [
            "재미있는 파이썬\n",
            "Python,Java,C\n",
            "Python/Java/C\n",
            "Python:Java:C\n"
          ]
        }
      ]
    },
    {
      "cell_type": "code",
      "source": [
        "print('영화 타이타닉')\n",
        "print('평점', end=' ')  # end=' ' 옆에다 찍어라 (줄바꾸지 말고)\n",
        "print('5점')"
      ],
      "metadata": {
        "colab": {
          "base_uri": "https://localhost:8080/"
        },
        "id": "0op0dbPyKx-u",
        "outputId": "e4e652dd-f998-480c-a188-b95384a0d582"
      },
      "execution_count": null,
      "outputs": [
        {
          "output_type": "stream",
          "name": "stdout",
          "text": [
            "영화 타이타닉\n",
            "평점 5점\n"
          ]
        }
      ]
    },
    {
      "cell_type": "code",
      "source": [
        "print('영화 타이타닉')\n",
        "print('평점', end=':')  # end=':' 옆에다 찍어라 (줄바꾸지 말고)\n",
        "print('5점')"
      ],
      "metadata": {
        "colab": {
          "base_uri": "https://localhost:8080/"
        },
        "id": "t7-3rtpkLhjT",
        "outputId": "4db8bc8d-1979-44ab-df58-e7c57a12c73e"
      },
      "execution_count": null,
      "outputs": [
        {
          "output_type": "stream",
          "name": "stdout",
          "text": [
            "영화 타이타닉\n",
            "평점:5점\n"
          ]
        }
      ]
    },
    {
      "cell_type": "code",
      "source": [
        "# % 연산자  (비추)\n",
        "\n",
        "print('%d' % 10)      # %d 정수 10진수 자리표시자\n",
        "print('%o' % 10)      # %o 정수 8진수 자리표시자\n",
        "print('%x' % 10)      # %x 정수 16진수 자리표시자\n",
        "print('%f' % 3.14)    # %f 실수 자리표시자\n",
        "print('%s' % 'a')     # %s 문자열"
      ],
      "metadata": {
        "colab": {
          "base_uri": "https://localhost:8080/"
        },
        "id": "uF08CG_0L081",
        "outputId": "93edfeb4-f17f-4d2e-ee2c-1cc756d02568"
      },
      "execution_count": null,
      "outputs": [
        {
          "output_type": "stream",
          "name": "stdout",
          "text": [
            "10\n",
            "12\n",
            "a\n",
            "3.140000\n",
            "a\n"
          ]
        }
      ]
    },
    {
      "cell_type": "code",
      "source": [
        "print('%s' % 10)      \n",
        "print('%s' % 10)      \n",
        "print('%s' % 10)      \n",
        "print('%s' % 3.14)    \n",
        "print('%s' % 'a')     # %s 문자열"
      ],
      "metadata": {
        "colab": {
          "base_uri": "https://localhost:8080/"
        },
        "id": "tndw0dQaMDi2",
        "outputId": "dd0d146d-ea3f-4362-c34e-9fc211550b1f"
      },
      "execution_count": null,
      "outputs": [
        {
          "output_type": "stream",
          "name": "stdout",
          "text": [
            "10\n",
            "10\n",
            "10\n",
            "3.14\n",
            "a\n"
          ]
        }
      ]
    },
    {
      "cell_type": "code",
      "source": [
        "print('%d' % 1)\n",
        "print('%5d' % 1)       # 5자리를 확보하고 오른쪽부터 출력\n",
        "print('%5d' % 11)\n",
        "print('%-5d' % 11)     # 5자리를 확보하고 왼쪽부터 출력"
      ],
      "metadata": {
        "colab": {
          "base_uri": "https://localhost:8080/"
        },
        "id": "3xJRV0pxNXTF",
        "outputId": "c4009607-835d-4583-942b-8b5e557b788c"
      },
      "execution_count": null,
      "outputs": [
        {
          "output_type": "stream",
          "name": "stdout",
          "text": [
            "1\n",
            "    1\n",
            "   11\n",
            "11   \n"
          ]
        }
      ]
    },
    {
      "cell_type": "code",
      "source": [
        "print('%5.3f' % 3.14)   # 소수점 5자리를 확보하고 오른쪽부터 3자리까지만 출력해라\n",
        "print('%5.1f' % 3.14) "
      ],
      "metadata": {
        "colab": {
          "base_uri": "https://localhost:8080/"
        },
        "id": "JQ52heAxNjdZ",
        "outputId": "05e33ce8-76d8-478c-83d2-cc8858e699be"
      },
      "execution_count": null,
      "outputs": [
        {
          "output_type": "stream",
          "name": "stdout",
          "text": [
            "3.140\n",
            "  3.1\n"
          ]
        }
      ]
    },
    {
      "cell_type": "code",
      "source": [
        "print('%-5.3f' % 3.14)   # 소수점 5자리를 확보하고 왼쪽부터 3자리까지만 출력해라"
      ],
      "metadata": {
        "colab": {
          "base_uri": "https://localhost:8080/"
        },
        "id": "XGvYkDe6OOr8",
        "outputId": "db147564-629a-4ce3-f3e0-50221d665cc5"
      },
      "execution_count": null,
      "outputs": [
        {
          "output_type": "stream",
          "name": "stdout",
          "text": [
            "3.140\n"
          ]
        }
      ]
    },
    {
      "cell_type": "code",
      "source": [
        "print('%.1f' % 3.14)     # 소수 1자리까지 출력"
      ],
      "metadata": {
        "colab": {
          "base_uri": "https://localhost:8080/"
        },
        "id": "e5RMz4m-O4kZ",
        "outputId": "d77afad3-ecb5-42af-f2dc-ee9e5fe01fbe"
      },
      "execution_count": null,
      "outputs": [
        {
          "output_type": "stream",
          "name": "stdout",
          "text": [
            "3.1\n"
          ]
        }
      ]
    },
    {
      "cell_type": "code",
      "source": [
        "a='학생'\n",
        "\n",
        "# 기본 출력 방법\n",
        "print(a,'입니다.',sep='')\n",
        "\n",
        "# f string 출력 방법\n",
        "print(f'{a}입니다.')\n",
        "\n",
        "# % 연산자 출력 방법\n",
        "print('%s입니다.' %a)\n",
        "\n",
        "# format() 출력 방법\n",
        "print('{}입니다.'.format(a))"
      ],
      "metadata": {
        "colab": {
          "base_uri": "https://localhost:8080/"
        },
        "id": "agYjUyybPDeh",
        "outputId": "bd452415-a662-4c60-af50-af772c951e7f"
      },
      "execution_count": null,
      "outputs": [
        {
          "output_type": "stream",
          "name": "stdout",
          "text": [
            "학생입니다.\n",
            "학생입니다.\n",
            "학생입니다.\n",
            "학생입니다.\n"
          ]
        }
      ]
    },
    {
      "cell_type": "code",
      "source": [
        "# format() 매서드\n",
        "\n",
        "print('My name is {}'.format('James'))"
      ],
      "metadata": {
        "colab": {
          "base_uri": "https://localhost:8080/"
        },
        "id": "HfEW7cpuPYbp",
        "outputId": "877145e3-4eb8-4a0c-8ced-8cbec41296d0"
      },
      "execution_count": null,
      "outputs": [
        {
          "output_type": "stream",
          "name": "stdout",
          "text": [
            "My name is James\n"
          ]
        }
      ]
    },
    {
      "cell_type": "code",
      "source": [
        "print('My name is {0}'.format('James'))"
      ],
      "metadata": {
        "colab": {
          "base_uri": "https://localhost:8080/"
        },
        "id": "2xEnsUT7QrTT",
        "outputId": "7b369237-3639-4336-f0e9-663709fa69ea"
      },
      "execution_count": null,
      "outputs": [
        {
          "output_type": "stream",
          "name": "stdout",
          "text": [
            "My name is James\n"
          ]
        }
      ]
    },
    {
      "cell_type": "code",
      "source": [
        "print('My name is {name}'.format(name='James'))"
      ],
      "metadata": {
        "colab": {
          "base_uri": "https://localhost:8080/"
        },
        "id": "uNOJuFPrQwiv",
        "outputId": "07b7c53c-67bf-4aa5-88ea-2b189e7034e6"
      },
      "execution_count": null,
      "outputs": [
        {
          "output_type": "stream",
          "name": "stdout",
          "text": [
            "My name is James\n"
          ]
        }
      ]
    },
    {
      "cell_type": "code",
      "source": [
        "print('My name is {}. I\\'m {} years old.'.format('James', 20))"
      ],
      "metadata": {
        "colab": {
          "base_uri": "https://localhost:8080/"
        },
        "id": "KM0EoQ3zQ7CN",
        "outputId": "8fcfba2c-18b9-49b6-cb4f-a3cb8177160b"
      },
      "execution_count": null,
      "outputs": [
        {
          "output_type": "stream",
          "name": "stdout",
          "text": [
            "My name is James. I'm 20 years old.\n"
          ]
        }
      ]
    },
    {
      "cell_type": "code",
      "source": [
        "print('My name is {1}. I\\'m {0} years old.'.format('James', 20))    # 넘버링을 할 수 있다."
      ],
      "metadata": {
        "colab": {
          "base_uri": "https://localhost:8080/"
        },
        "id": "mAWO1uvDROKG",
        "outputId": "5df76438-09c2-407c-9372-4509e4d69c34"
      },
      "execution_count": null,
      "outputs": [
        {
          "output_type": "stream",
          "name": "stdout",
          "text": [
            "My name is 20. I'm James years old.\n"
          ]
        }
      ]
    },
    {
      "cell_type": "code",
      "source": [
        "print('My name is {name}. I\\'m {age} years old.'.format(name='James', age=20))"
      ],
      "metadata": {
        "colab": {
          "base_uri": "https://localhost:8080/"
        },
        "id": "C0GpMZAFRXSu",
        "outputId": "6b63b3e2-2b70-41b1-d7e8-a85419631232"
      },
      "execution_count": null,
      "outputs": [
        {
          "output_type": "stream",
          "name": "stdout",
          "text": [
            "My name is James. I'm 20 years old.\n"
          ]
        }
      ]
    },
    {
      "cell_type": "code",
      "source": [
        "# f-strings\n",
        "\n",
        "who = 'you'\n",
        "how = 'happy'\n",
        "\n",
        "print(f'{who} make me {how}')"
      ],
      "metadata": {
        "colab": {
          "base_uri": "https://localhost:8080/"
        },
        "id": "3kaLDYfsRrZc",
        "outputId": "565c5fc9-0611-4926-db3b-f4da7f9bd3e2"
      },
      "execution_count": null,
      "outputs": [
        {
          "output_type": "stream",
          "name": "stdout",
          "text": [
            "you make me happy\n"
          ]
        }
      ]
    },
    {
      "cell_type": "code",
      "source": [
        "age = 25\n",
        "print(f'내년엔 {age+1}살이 됩니다.')"
      ],
      "metadata": {
        "colab": {
          "base_uri": "https://localhost:8080/"
        },
        "id": "eV_JmoWNR6Bg",
        "outputId": "3c2c7f9a-766a-45a7-a4f5-6e5abf7139ff"
      },
      "execution_count": null,
      "outputs": [
        {
          "output_type": "stream",
          "name": "stdout",
          "text": [
            "내년엔 26살이 됩니다.\n"
          ]
        }
      ]
    },
    {
      "cell_type": "code",
      "source": [
        "# 표준 입력\n",
        "\n",
        "a = input()\n",
        "print(a)"
      ],
      "metadata": {
        "colab": {
          "base_uri": "https://localhost:8080/"
        },
        "id": "XussTOgsSCbx",
        "outputId": "3a404684-bcbd-4271-f9b6-76cf593d007a"
      },
      "execution_count": null,
      "outputs": [
        {
          "output_type": "stream",
          "name": "stdout",
          "text": [
            "asd\n",
            "asd\n"
          ]
        }
      ]
    },
    {
      "cell_type": "code",
      "source": [
        "# n = input('정수를 입력하세요 : ')\n",
        "# print(type(n))\n",
        "\n",
        "n = int(input('정수를 입력하세요 : '))\n",
        "print(type(n))\n",
        "\n",
        "# input을 통해 입력된 모든 데이터는 문자로 받는다.\n",
        "# 따라서 숫자로 입력을 받기 위해서는 casting 을 하여 숫자로 바꿔준다. "
      ],
      "metadata": {
        "colab": {
          "base_uri": "https://localhost:8080/"
        },
        "id": "w8V2BcdTSVWE",
        "outputId": "d8c619a9-21ea-4c0c-a180-33fa5ed0f8d6"
      },
      "execution_count": 1,
      "outputs": [
        {
          "output_type": "stream",
          "name": "stdout",
          "text": [
            "정수를 입력하세요 : 23\n",
            "<class 'int'>\n"
          ]
        }
      ]
    },
    {
      "cell_type": "code",
      "source": [
        "# p063 예제\n",
        "\n",
        "name = input('이름을 입력하세요 >>> ')\n",
        "age = input('나이를 입력하세요 >>> ')\n",
        "\n",
        "\n",
        "print('입력된 이름은 {}입니다.'.format(name))\n",
        "print('입력된 나이는 {}살 입니다.'.format(age))\n",
        "\n",
        "print(f'입력된 이름은 %s입니다.' % name)\n",
        "print(f'입력된 나이는 %s살 입니다.' % age)\n",
        "\n",
        "print(f'입력된 이름은 {name}입니다.')\n",
        "print(f'입력된 나이는 {age}살 입니다.')\n",
        "\n",
        "print('입력된 이름은',name,'입니다.')\n",
        "print(f'입력된 나이는',age,'살 입니다.')"
      ],
      "metadata": {
        "colab": {
          "base_uri": "https://localhost:8080/"
        },
        "id": "jaIDP1cpShr3",
        "outputId": "2ae26256-bc1d-4e47-d325-2d7174d2bb10"
      },
      "execution_count": null,
      "outputs": [
        {
          "output_type": "stream",
          "name": "stdout",
          "text": [
            "이름을 입력하세요 >>> 정승호\n",
            "나이를 입력하세요 >>> 30\n",
            "입력된 이름은 정승호입니다.\n",
            "입력된 나이는 30살 입니다.\n",
            "입력된 이름은 정승호입니다.\n",
            "입력된 나이는 30살 입니다.\n",
            "입력된 이름은 정승호입니다.\n",
            "입력된 나이는 30살 입니다.\n",
            "입력된 이름은 정승호 입니다.\n",
            "입력된 나이는 30 살 입니다.\n"
          ]
        }
      ]
    },
    {
      "cell_type": "code",
      "source": [
        ""
      ],
      "metadata": {
        "id": "1xv52qq8S2zg"
      },
      "execution_count": null,
      "outputs": []
    }
  ]
}