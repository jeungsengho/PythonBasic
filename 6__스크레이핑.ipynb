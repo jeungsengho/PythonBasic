{
  "nbformat": 4,
  "nbformat_minor": 0,
  "metadata": {
    "colab": {
      "name": "6_ 스크레이핑.ipynb",
      "provenance": [],
      "authorship_tag": "ABX9TyMa0gejf5lLgkI/U+H4w15V",
      "include_colab_link": true
    },
    "kernelspec": {
      "name": "python3",
      "display_name": "Python 3"
    },
    "language_info": {
      "name": "python"
    }
  },
  "cells": [
    {
      "cell_type": "markdown",
      "metadata": {
        "id": "view-in-github",
        "colab_type": "text"
      },
      "source": [
        "<a href=\"https://colab.research.google.com/github/jeungsengho/PythonBasic/blob/main/6__%EC%8A%A4%ED%81%AC%EB%A0%88%EC%9D%B4%ED%95%91.ipynb\" target=\"_parent\"><img src=\"https://colab.research.google.com/assets/colab-badge.svg\" alt=\"Open In Colab\"/></a>"
      ]
    },
    {
      "cell_type": "markdown",
      "source": [
        "# **1. 스크레이핑(Scraping)**"
      ],
      "metadata": {
        "id": "xnjGtyeqnCd8"
      }
    },
    {
      "cell_type": "markdown",
      "source": [
        "* 크롤링(Crawling): 인터넷의 데이터를 활용하기 위해 정보들을 분석하고 활용할 수 있게 수집하는 행위\n",
        "* 크롤링과 같은 개념이지만 데이터를 추출해서 가공하는 최종 목표"
      ],
      "metadata": {
        "id": "s8QbwAEirwlL"
      }
    },
    {
      "cell_type": "markdown",
      "source": [
        "# **2. 크롤링**"
      ],
      "metadata": {
        "id": "1QDwIMx4sJsS"
      }
    },
    {
      "cell_type": "markdown",
      "source": [
        "### **2-1. basicenglishspeaking.com**\n"
      ],
      "metadata": {
        "id": "jS7dxVTjsnjv"
      }
    },
    {
      "cell_type": "code",
      "source": [
        "import requests # 서버에 접속해서 html 문서를 가져오는 역할 (요청 -> 응답)\n",
        "from bs4 import BeautifulSoup # html 문서를 해석하는 역할 (파싱)"
      ],
      "metadata": {
        "id": "jv38KlmCt0zH"
      },
      "execution_count": 1,
      "outputs": []
    },
    {
      "cell_type": "code",
      "source": [
        "site = 'https://basicenglishspeaking.com/daily-english-conversation-topics/'\n",
        "request = requests.get(site)\n",
        "print(request)  # <Response [200]> 정상적인 접속\n",
        "# print(request.text) # html\n",
        "html = request.text"
      ],
      "metadata": {
        "colab": {
          "base_uri": "https://localhost:8080/"
        },
        "id": "znEtKGVBuhXm",
        "outputId": "4456f6a0-b362-4355-acfe-e39a307e67e6"
      },
      "execution_count": 6,
      "outputs": [
        {
          "output_type": "stream",
          "name": "stdout",
          "text": [
            "<Response [200]>\n"
          ]
        }
      ]
    },
    {
      "cell_type": "code",
      "source": [
        "soup = BeautifulSoup(html)"
      ],
      "metadata": {
        "id": "YgLNu8ADu8NJ"
      },
      "execution_count": 7,
      "outputs": []
    },
    {
      "cell_type": "code",
      "source": [
        "divs = soup.findAll('div', {'class':'thrv-columns'})\n",
        "print(divs)"
      ],
      "metadata": {
        "colab": {
          "base_uri": "https://localhost:8080/"
        },
        "id": "JzZpsdYUwQ_P",
        "outputId": "edf1c2dc-3015-4004-85e7-d6584dd417f1"
      },
      "execution_count": 8,
      "outputs": [
        {
          "output_type": "stream",
          "name": "stdout",
          "text": [
            "[<div class=\"thrv_wrapper thrv-columns\" style=\"--tcb-col-el-width:792;\"><div class=\"tcb-flex-row tcb--cols--3\"><div class=\"tcb-flex-col\"><div class=\"tcb-col\"><div class=\"thrv_wrapper thrv_text_element\"><p>1. <a class=\"tve-froala\" href=\"https://basicenglishspeaking.com/family/\" style=\"outline: none;\">Family</a><br/>2. <a class=\"tve-froala\" href=\"https://basicenglishspeaking.com/restaurant/\" style=\"outline: none;\">Restaurant</a><br/>3. <a href=\"https://basicenglishspeaking.com/books/\">Books</a><br/>4. <a href=\"https://basicenglishspeaking.com/travel/\">Travel</a><br/>5. <a href=\"https://basicenglishspeaking.com/website/\">Website</a><br/>6. <a href=\"https://basicenglishspeaking.com/accident/\">Accident</a><br/>7. <a class=\"tve-froala\" href=\"https://basicenglishspeaking.com/childhood-memory/\" style=\"outline: none;\">Childhood memory</a><br/>8. <a class=\"tve-froala\" href=\"https://basicenglishspeaking.com/favorite-rooms/\" style=\"outline: none;\">Favorite rooms</a><br/>9. <a href=\"https://basicenglishspeaking.com/presents/\">Presents</a><br/>10. <a class=\"tve-froala\" href=\"https://basicenglishspeaking.com/historical-place/\" style=\"outline: none;\">Historical place</a><br/>11. <a class=\"tve-froala\" href=\"https://basicenglishspeaking.com/newspaper-magazine/\" style=\"outline: none;\">Newspaper/ Magazine</a><br/>12. <a href=\"https://basicenglishspeaking.com/an-event/\">A memorable event</a><br/>13. <a href=\"https://basicenglishspeaking.com/a-subject/\">A favorite subject</a><br/>14. <a href=\"https://basicenglishspeaking.com/a-museum/\">A museum</a><br/>15. <a href=\"https://basicenglishspeaking.com/a-movie/\">A favorite movie</a><br/>16. <a href=\"https://basicenglishspeaking.com/a-foreign-country/\">A foreign country</a><br/>17. <a href=\"https://basicenglishspeaking.com/parties/\">Parties</a><br/>18. <a href=\"https://basicenglishspeaking.com/a-teacher/\">A teacher</a><br/>19. <a href=\"https://basicenglishspeaking.com/a-friend/\">A friend</a><br/>20. <a href=\"https://basicenglishspeaking.com/a-hotel/\">A hotel</a><br/>21. <a href=\"https://basicenglishspeaking.com/a-letter/\">A letter</a><br/>22. <a href=\"https://basicenglishspeaking.com/hobbies/\">Hobbies</a><br/>23. <a href=\"https://basicenglishspeaking.com/music/\">Music</a><br/>24. <a href=\"https://basicenglishspeaking.com/shopping/\">Shopping</a><br/>25. <a href=\"https://basicenglishspeaking.com/holiday/\">Holiday</a></p></div></div></div><div class=\"tcb-flex-col\"><div class=\"tcb-col\"><div class=\"thrv_wrapper thrv_text_element\"><p>26. <a class=\"tve-froala\" href=\"https://basicenglishspeaking.com/animals/\" style=\"outline: none;\">Animals</a><br/>27. <a class=\"tve-froala\" href=\"https://basicenglishspeaking.com/a-practical-skill/\" style=\"outline: none;\">A practical skill</a><br/>28. <a href=\"https://basicenglishspeaking.com/sports/\">Sport</a><br/>29. <a href=\"https://basicenglishspeaking.com/a-school/\">A School</a><br/>30. <a href=\"https://basicenglishspeaking.com/festival/\">Festival</a><br/>31. <a href=\"https://basicenglishspeaking.com/food/\">Food</a><br/>32. <a href=\"https://basicenglishspeaking.com/household-appliance/\">Household appliance</a><br/>33. <a href=\"https://basicenglishspeaking.com/a-music-band/\">A music band</a><br/>34. <a href=\"https://basicenglishspeaking.com/weather/\">Weather</a><br/>35. <a href=\"https://basicenglishspeaking.com/neighbor/\">Neighbor</a><br/>36. <a href=\"https://basicenglishspeaking.com/natural-scenery/\">Natural scenery</a><br/>37. <a href=\"https://basicenglishspeaking.com/outdoor-activities/\">Outdoor activities</a><br/>38. <a href=\"https://basicenglishspeaking.com/law/\">Law</a><br/>39. <a href=\"https://basicenglishspeaking.com/pollution/\">Pollution</a><br/>40. <a href=\"https://basicenglishspeaking.com/traffic-jam/\">Traffic jam</a><br/>41. <a href=\"https://basicenglishspeaking.com/tv-program/\">TV program</a><br/>42. <a href=\"https://basicenglishspeaking.com/architecture-building/\">Architect/ Building</a><br/>43. <a href=\"https://basicenglishspeaking.com/electronic-media/\">Electronic Media</a><br/>44. <a href=\"https://basicenglishspeaking.com/job-career/\">Job/ Career</a><br/>45. <a href=\"https://basicenglishspeaking.com/competition-contest/\">Competition/ contest</a><br/>46. <a href=\"https://basicenglishspeaking.com/a-garden/\">A garden</a><br/>47. <a href=\"https://basicenglishspeaking.com/hometown/\">Hometown</a><br/>48. <a href=\"https://basicenglishspeaking.com/clothing/\">Clothing</a><br/>49. <a href=\"https://basicenglishspeaking.com/an-advertisement/\">Advertisement</a><br/>50. <a href=\"https://basicenglishspeaking.com/a-project/\">A project</a></p></div></div></div><div class=\"tcb-flex-col\"><div class=\"tcb-col\"><div class=\"thrv_wrapper thrv_text_element\"><p>51. <a href=\"https://basicenglishspeaking.com/a-wedding/\">A wedding</a><br/>52. <a href=\"https://basicenglishspeaking.com/a-coffee-shop/\">A Coffee shop</a><br/>53. <a href=\"https://basicenglishspeaking.com/culture/\">Culture</a><br/>54. <a href=\"https://basicenglishspeaking.com/transport/\">Transport</a><br/>55. <a href=\"https://basicenglishspeaking.com/politician/\">Politician</a><br/>56. <a href=\"https://basicenglishspeaking.com/communication/\">Communication</a><br/>57. <a href=\"https://basicenglishspeaking.com/business/\">Business</a><br/>58. <a href=\"https://basicenglishspeaking.com/computer/\">Computer</a><br/>59. <a href=\"https://basicenglishspeaking.com/exercise/\">Exercise</a><br/>60. <a href=\"https://basicenglishspeaking.com/goal-ambition/\">Goal/ ambition</a><br/>61. <a href=\"https://basicenglishspeaking.com/art/\">Art</a><br/>62. <a href=\"https://basicenglishspeaking.com/fashion/\">Fashion</a><br/>63. <a href=\"https://basicenglishspeaking.com/jewelry/\">Jewelry</a><br/>64. <a href=\"https://basicenglishspeaking.com/cosmetic/\">Cosmetic</a><br/>65. <a href=\"https://basicenglishspeaking.com/indoor-game/\">Indoor Game</a><br/>66. <a href=\"https://basicenglishspeaking.com/phone-conversation/\">Phone conversation</a><br/>67. <a href=\"https://basicenglishspeaking.com/learning-second-language/\">Learning A Second language</a><br/>68. <a href=\"https://basicenglishspeaking.com/a-creative-person/\">A Creative Person</a><br/>69. <a href=\"https://basicenglishspeaking.com/a-celebrity/\">A celebrity</a><br/>70. <a href=\"https://basicenglishspeaking.com/a-health-problem/\">A Health Problem</a><br/>71. <a href=\"https://basicenglishspeaking.com/technological-advancements/\">Technological advancements</a><br/>72. <a href=\"https://basicenglishspeaking.com/a-landmark/\">A Landmark</a><br/>73. <a href=\"https://basicenglishspeaking.com/handcraft-items/\">Handcraft Items</a><br/>74. <a href=\"https://basicenglishspeaking.com/plastic-surgery/\">Plastic Surgery</a><br/>75. <a href=\"https://basicenglishspeaking.com/success/\">Success</a></p></div></div></div></div></div>]\n"
          ]
        }
      ]
    },
    {
      "cell_type": "code",
      "source": [
        "subject = []\n",
        "\n",
        "for div in divs:\n",
        "  links = div.findAll('a')\n",
        "  # print(links)\n",
        "  for link in links:\n",
        "   # print(link.text)\n",
        "   subject.append(link.text)"
      ],
      "metadata": {
        "id": "AngcNdVtyTyH"
      },
      "execution_count": 11,
      "outputs": []
    },
    {
      "cell_type": "code",
      "source": [
        "print('총', len(subject), '개의 주제를 찾았습니다.')\n",
        "for i in range(len(subject)):\n",
        "  print('{0:2d}. {1:s}'.format(i+1, subject[i]))"
      ],
      "metadata": {
        "colab": {
          "base_uri": "https://localhost:8080/"
        },
        "id": "EO50rZPzzC3b",
        "outputId": "685bd721-b72d-48be-cb39-a0c464d1b214"
      },
      "execution_count": 15,
      "outputs": [
        {
          "output_type": "stream",
          "name": "stdout",
          "text": [
            "총 75 개의 주제를 찾았습니다.\n",
            " 1. Family\n",
            " 2. Restaurant\n",
            " 3. Books\n",
            " 4. Travel\n",
            " 5. Website\n",
            " 6. Accident\n",
            " 7. Childhood memory\n",
            " 8. Favorite rooms\n",
            " 9. Presents\n",
            "10. Historical place\n",
            "11. Newspaper/ Magazine\n",
            "12. A memorable event\n",
            "13. A favorite subject\n",
            "14. A museum\n",
            "15. A favorite movie\n",
            "16. A foreign country\n",
            "17. Parties\n",
            "18. A teacher\n",
            "19. A friend\n",
            "20. A hotel\n",
            "21. A letter\n",
            "22. Hobbies\n",
            "23. Music\n",
            "24. Shopping\n",
            "25. Holiday\n",
            "26. Animals\n",
            "27. A practical skill\n",
            "28. Sport\n",
            "29. A School\n",
            "30. Festival\n",
            "31. Food\n",
            "32. Household appliance\n",
            "33. A music band\n",
            "34. Weather\n",
            "35. Neighbor\n",
            "36. Natural scenery\n",
            "37. Outdoor activities\n",
            "38. Law\n",
            "39. Pollution\n",
            "40. Traffic jam\n",
            "41. TV program\n",
            "42. Architect/ Building\n",
            "43. Electronic Media\n",
            "44. Job/ Career\n",
            "45. Competition/ contest\n",
            "46. A garden\n",
            "47. Hometown\n",
            "48. Clothing\n",
            "49. Advertisement\n",
            "50. A project\n",
            "51. A wedding\n",
            "52. A Coffee shop\n",
            "53. Culture\n",
            "54. Transport\n",
            "55. Politician\n",
            "56. Communication\n",
            "57. Business\n",
            "58. Computer\n",
            "59. Exercise\n",
            "60. Goal/ ambition\n",
            "61. Art\n",
            "62. Fashion\n",
            "63. Jewelry\n",
            "64. Cosmetic\n",
            "65. Indoor Game\n",
            "66. Phone conversation\n",
            "67. Learning A Second language\n",
            "68. A Creative Person\n",
            "69. A celebrity\n",
            "70. A Health Problem\n",
            "71. Technological advancements\n",
            "72. A Landmark\n",
            "73. Handcraft Items\n",
            "74. Plastic Surgery\n",
            "75. Success\n"
          ]
        }
      ]
    },
    {
      "cell_type": "markdown",
      "source": [
        "### **2-2. 다음 뉴스기사**"
      ],
      "metadata": {
        "id": "dTvTMsyqzq35"
      }
    },
    {
      "cell_type": "code",
      "source": [
        "# https://movie.v.daum.net/v/20220625085027862\n",
        "\n",
        "def daum_news_title(news_id):\n",
        "  # url = 'https://movie.v.daum.net/v/{}'+ news_id\n",
        "  url = 'https://movie.v.daum.net/v/{}'.format(news_id)\n",
        "  request = requests.get(url)\n",
        "  # print(request)\n",
        "  soup = BeautifulSoup(request.text)\n",
        "  # title = soup.findAll('h3', {'class':'tit_view'})\n",
        "  # title = soup.find('h3', {'class':'tit_view'})\n",
        "  title = soup.select_one('h3.tit_view')\n",
        "  if title:\n",
        "    return title.text.strip()\n",
        "  return ''  \n"
      ],
      "metadata": {
        "id": "B7wDZgje4a2s"
      },
      "execution_count": 28,
      "outputs": []
    },
    {
      "cell_type": "code",
      "source": [
        "daum_news_title('20220625085027862')"
      ],
      "metadata": {
        "colab": {
          "base_uri": "https://localhost:8080/",
          "height": 35
        },
        "id": "gaG-A56B5Y8Y",
        "outputId": "341a9a04-5cea-43d4-88b9-f252ba2327db"
      },
      "execution_count": 29,
      "outputs": [
        {
          "output_type": "execute_result",
          "data": {
            "text/plain": [
              "'팬데믹 후 첫 천만..마동석 펀치로 심폐소생한 극장가 [상반기 결산-영화]'"
            ],
            "application/vnd.google.colaboratory.intrinsic+json": {
              "type": "string"
            }
          },
          "metadata": {},
          "execution_count": 29
        }
      ]
    },
    {
      "cell_type": "code",
      "source": [
        "daum_news_title('20220625093301536')"
      ],
      "metadata": {
        "colab": {
          "base_uri": "https://localhost:8080/",
          "height": 35
        },
        "id": "HzCBgB-E5c-Q",
        "outputId": "6cded6d6-0932-4ba4-d623-9868d9ff3073"
      },
      "execution_count": 30,
      "outputs": [
        {
          "output_type": "execute_result",
          "data": {
            "text/plain": [
              "'누구라도 외면하고 싶은 금기에 도전하는 이 영화'"
            ],
            "application/vnd.google.colaboratory.intrinsic+json": {
              "type": "string"
            }
          },
          "metadata": {},
          "execution_count": 30
        }
      ]
    },
    {
      "cell_type": "code",
      "source": [
        "daum_news_title('20220627174244810')"
      ],
      "metadata": {
        "colab": {
          "base_uri": "https://localhost:8080/",
          "height": 35
        },
        "id": "oQbzdnRP68O6",
        "outputId": "e66313a2-27e5-4595-b325-91945d74d49b"
      },
      "execution_count": 31,
      "outputs": [
        {
          "output_type": "execute_result",
          "data": {
            "text/plain": [
              "'수지에게 결혼·유학 제안했던 그 남자..허형규 \"\\'안나\\' 참여 영광\"'"
            ],
            "application/vnd.google.colaboratory.intrinsic+json": {
              "type": "string"
            }
          },
          "metadata": {},
          "execution_count": 31
        }
      ]
    },
    {
      "cell_type": "markdown",
      "source": [
        "### **2-3. 벅스뮤직 차트**"
      ],
      "metadata": {
        "id": "Tw-bFjAA7ZzT"
      }
    },
    {
      "cell_type": "code",
      "source": [
        "request = requests.get('https://music.bugs.co.kr/chart')\n",
        "html = request.text\n",
        "soup = BeautifulSoup(html)\n",
        "\n",
        "titles = soup.findAll('p',{'class':'title'})\n",
        "# print(titles)\n",
        "\n",
        "artists = soup.findAll('p',{'class':'artist'})\n",
        "# print(artists)"
      ],
      "metadata": {
        "id": "P3ZHJPNX79IC"
      },
      "execution_count": 42,
      "outputs": []
    },
    {
      "cell_type": "code",
      "source": [
        "for i in range(len(titles)):\n",
        "  title = titles[i].text.strip()\n",
        "  artist = artists[i].text.strip().split('\\n')[0] # split('\\n') -> '\\n' 을 기준으로 나누어서 앞에 0번째만 저장\n",
        "  data = '{0:3d}위 {1} - {2}'.format(i+1, artist, title)\n",
        "  print(data)"
      ],
      "metadata": {
        "colab": {
          "base_uri": "https://localhost:8080/"
        },
        "id": "_P1JutVq8taU",
        "outputId": "5db710b8-81ef-41ec-e9a5-0f56020ac9da"
      },
      "execution_count": 49,
      "outputs": [
        {
          "output_type": "stream",
          "name": "stdout",
          "text": [
            "  1위 이민혁 (HUTA) - BOOM\n",
            "  2위 프로미스나인 - Stay This Way\n",
            "  3위 프로미스나인 - Rewind\n",
            "  4위 프로미스나인 - Blind Letter\n",
            "  5위 프로미스나인 - Cheese\n",
            "  6위 프로미스나인 - Up And\n",
            "  7위 이민혁 (HUTA) - 그대가 모르게\n",
            "  8위 이민혁 (HUTA) - 사랑일까요 (Duet. 이창섭 of 비투비)\n",
            "  9위 이민혁 (HUTA) - 넌 나의 봄이야\n",
            " 10위 이민혁 (HUTA) - Shadow\n",
            " 11위 나연 (TWICE) - POP!\n",
            " 12위 IVE (아이브) - LOVE DIVE\n",
            " 13위 Charlie Puth(찰리 푸스) - Left and Right (Feat. Jung Kook of BTS)\n",
            " 14위 이무진 - 참고사항\n",
            " 15위 (여자)아이들 - TOMBOY\n",
            " 16위 LE SSERAFIM (르세라핌) - FEARLESS\n",
            " 17위 BIG Naughty (서동현) - 정이라고 하자 (Feat. 10CM)\n",
            " 18위 aespa - Life′s Too Short (English Ver.)\n",
            " 19위 싸이 (PSY) - That That (prod. & feat. SUGA of BTS)\n",
            " 20위 다비치 - 팡파레\n",
            " 21위 방탄소년단 - Yet To Come\n",
            " 22위 멜로망스(MeloMance) - 사랑인가 봐\n",
            " 23위 aespa - 도깨비불 (Illusion)\n",
            " 24위 케이시 - 늦은 밤 헤어지긴 너무 아쉬워\n",
            " 25위 Red Velvet (레드벨벳) - Feel My Rhythm\n",
            " 26위 Charlie Puth(찰리 푸스) - That's Hilarious\n",
            " 27위 경서 - 나의 X에게\n",
            " 28위 IVE (아이브) - ELEVEN\n",
            " 29위 이민혁 (HUTA) - I’m Rare\n",
            " 30위 이민혁 (HUTA) - Real Game (Like Messi)\n",
            " 31위 폴킴(Paul Kim) - One More Time\n",
            " 32위 이민혁 (HUTA) - Red Wine\n",
            " 33위 BE'O (비오) - LOVE me\n",
            " 34위 이민혁 (HUTA) - 우리 함께 걸어요\n",
            " 35위 이민혁 (HUTA) - 위험해\n",
            " 36위 이민혁 (HUTA) - 끝 눈\n",
            " 37위 BIGBANG (빅뱅) - 봄여름가을겨울 (Still Life)\n",
            " 38위 조유리 - 러브 쉿!\n",
            " 39위 (여자)아이들 - MY BAG\n",
            " 40위 주시크 (Joosiq) - 아무래도 난\n",
            " 41위 이민혁 (HUTA) - 기다리고 있어\n",
            " 42위 The Kid LAROI - STAY\n",
            " 43위 태연 (TAEYEON) - INVU\n",
            " 44위 이무진 - 신호등\n",
            " 45위 10CM - 봄 to 러브\n",
            " 46위 BIG Naughty (서동현) - 낭만교향곡 (Feat. CHANGMO, 박재범)\n",
            " 47위 aespa - Next Level\n",
            " 48위 경서예지 - 다정히 내 이름을 부르면\n",
            " 49위 아이유(IU) - 드라마\n",
            " 50위 박재범 - GANADARA (Feat. 아이유)\n",
            " 51위 김민석 (멜로망스) - 취중고백\n",
            " 52위 YENA (최예나) - SMILEY (Feat. BIBI)\n",
            " 53위 WSG워너비 - 어마어마해\n",
            " 54위 임재현 - 고백하는 취한밤에 (Prod. 2soo)\n",
            " 55위 볼빨간사춘기 - Seoul\n",
            " 56위 (여자)아이들 - 말리지 마\n",
            " 57위 잔나비 - 초록을거머쥔우리는\n",
            " 58위 멜로망스(MeloMance) - Happy Song\n",
            " 59위 정승환 - 흔한 거짓말\n",
            " 60위 헤이즈(Heize) - 마지막 너의 인사\n",
            " 61위 아이유(IU) - strawberry moon\n",
            " 62위 이달의 소녀 - Flip That\n",
            " 63위 태연 (TAEYEON) - Weekend\n",
            " 64위 MSG워너비(M.O.M) - 듣고 싶을까\n",
            " 65위 세븐틴(SEVENTEEN) - HOT\n",
            " 66위 제시(Jessi) - ZOOM\n",
            " 67위 NCT DREAM - Beatbox\n",
            " 68위 볼빨간사춘기 - Love story\n",
            " 69위 임영웅 - 우리들의 블루스\n",
            " 70위 김희재 - 짠짠짠\n",
            " 71위 미연 ((여자)아이들) - Drive\n",
            " 72위 성시경 - 너의 모든 순간\n",
            " 73위 방탄소년단 - Dynamite\n",
            " 74위 Charlie Puth(찰리 푸스) - Light Switch\n",
            " 75위 임영웅 - 사랑은 늘 도망가\n",
            " 76위 쿠기 (Coogie) - Alone (Feat. 이하이)\n",
            " 77위 Justin Bieber(저스틴 비버) - Off My Face\n",
            " 78위 싸이 (PSY) - 감동이야 (feat. 성시경)\n",
            " 79위 아이유(IU) - Celebrity\n",
            " 80위 Lauv(라우브) - All 4 Nothing (I'm So In Love)\n",
            " 81위 멜로망스(MeloMance) - 초대\n",
            " 82위 Harry Styles(해리 스타일스) - As It Was\n",
            " 83위 싸이 (PSY) - Celeb\n",
            " 84위 WSG워너비 조별경연 (대청봉) - YOU AND I\n",
            " 85위 백예린 (Yerin Baek) - 물고기\n",
            " 86위 방탄소년단 - Butter\n",
            " 87위 김희재 - 풍악\n",
            " 88위 sokodomo - 회전목마 (Feat. Zion.T, 원슈타인) (Prod. Slom)\n",
            " 89위 이효리 - FREE SMILE\n",
            " 90위 폴킴(Paul Kim) - 모든 날, 모든 순간 (Every day, Every Moment)\n",
            " 91위 주호 - 내가 아니라도\n",
            " 92위 아이유(IU) - Blueming\n",
            " 93위 주시크 (Joosiq) - 너를 생각해\n",
            " 94위 아이유(IU) - 라일락\n",
            " 95위 프로미스나인 - DM\n",
            " 96위 STAYC(스테이씨) - RUN2U\n",
            " 97위 방탄소년단 - Permission to Dance\n",
            " 98위 세븐틴(SEVENTEEN) - Darl+ing\n",
            " 99위 태연 (TAEYEON) - 내 곁에\n",
            "100위 윤하(Younha/ユンナ) - 사건의 지평선\n"
          ]
        }
      ]
    },
    {
      "cell_type": "markdown",
      "source": [
        "### **2-4. 멜론 차트**"
      ],
      "metadata": {
        "id": "u381Agld-Oz6"
      }
    },
    {
      "cell_type": "code",
      "source": [
        "url = 'https://www.melon.com/chart/index.htm'\n",
        "request = requests.get(url)\n",
        "print(request)"
      ],
      "metadata": {
        "colab": {
          "base_uri": "https://localhost:8080/"
        },
        "id": "K_tIjPbM_WSC",
        "outputId": "71383cc6-b4a7-44d9-8384-c5c37485c6ca"
      },
      "execution_count": 53,
      "outputs": [
        {
          "output_type": "stream",
          "name": "stdout",
          "text": [
            "<Response [406]>\n"
          ]
        }
      ]
    },
    {
      "cell_type": "code",
      "source": [
        "# User-Agent: Mozilla/5.0 (Windows NT 10.0; Win64; x64) AppleWebKit/537.36 (KHTML, like Gecko) Chrome/103.0.0.0 Safari/537.36\n",
        "header = {'User-Agent':'Mozilla/5.0 (Windows NT 10.0; Win64; x64)'}\n",
        "url = 'https://www.melon.com/chart/index.htm'\n",
        "request = requests.get(url, headers=header)\n",
        "print(request)"
      ],
      "metadata": {
        "colab": {
          "base_uri": "https://localhost:8080/"
        },
        "id": "3fEAecRC_i5y",
        "outputId": "6fb82d74-c4bb-460a-b313-b9d90add8791"
      },
      "execution_count": 55,
      "outputs": [
        {
          "output_type": "stream",
          "name": "stdout",
          "text": [
            "<Response [200]>\n"
          ]
        }
      ]
    },
    {
      "cell_type": "code",
      "source": [
        ""
      ],
      "metadata": {
        "id": "7P03PxnOCQcy"
      },
      "execution_count": null,
      "outputs": []
    }
  ]
}