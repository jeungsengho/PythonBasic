{
  "nbformat": 4,
  "nbformat_minor": 0,
  "metadata": {
    "colab": {
      "name": "Python Basic Day1.ipynb",
      "provenance": [],
      "authorship_tag": "ABX9TyOr839sukh0IENIj85GTsL5",
      "include_colab_link": true
    },
    "kernelspec": {
      "name": "python3",
      "display_name": "Python 3"
    },
    "language_info": {
      "name": "python"
    }
  },
  "cells": [
    {
      "cell_type": "markdown",
      "metadata": {
        "id": "view-in-github",
        "colab_type": "text"
      },
      "source": [
        "<a href=\"https://colab.research.google.com/github/jeungsengho/PythonBasic/blob/main/Python_Basic_Day1.ipynb\" target=\"_parent\"><img src=\"https://colab.research.google.com/assets/colab-badge.svg\" alt=\"Open In Colab\"/></a>"
      ]
    },
    {
      "cell_type": "code",
      "source": [
        "# 파이썬이란\n",
        "\n",
        "# 1991년 네덜란드 '귀도 반 로섬'에 의해서 개발된 언어\n",
        "# 본래 '비단뱀'이라는 뜻을 가지고 있어 로고 등을 뱀으로 나타낸다.\n",
        "\n",
        "# 파이썬의 특징\n",
        "# 1) 파이썬은 인터프리터 언어이다. (컴파일러가 아니다.)\n",
        "# 2) 플랫폼에 독립적이다.\n",
        "# 3) 객체 지향 언어이다.\n",
        "# 4) 동적 타이핑 언어이다.\n",
        "# 5) 개발 속도가 빠르다.\n",
        "\n",
        "# * 개발 환경 - Web : colab\n",
        "#             - Local : Anaconda or VScode"
      ],
      "metadata": {
        "id": "4n_fZHPP6CCh"
      },
      "execution_count": 2,
      "outputs": []
    },
    {
      "cell_type": "code",
      "source": [
        "# 주석 Comment\n",
        "\n",
        "# 코드에 설명을 작성하는 부분\n",
        "# 주석은 프로그램 실행에 전혀 영향을 주지 않는다.\n",
        "# 주석은 '#' 기호를 사용하거나 '''주석''' or \"\"\"주석\"\"\""
      ],
      "metadata": {
        "id": "yz6vVgpaDZq8"
      },
      "execution_count": 3,
      "outputs": []
    },
    {
      "cell_type": "code",
      "source": [
        "'''     Docstring\n",
        "파일명 : Ex02-1.py\n",
        "개요 : 반지름을 전달하면 원의 넓이를 반환\n",
        "작성자 : 홍길동\n",
        "작성일 : 2020-0825\n",
        "'''\n",
        "\n",
        "# math 모듈 포함\n",
        "import math\n",
        "\n",
        "def get_area(radius):\n",
        "  \"\"\"반지름을 입력 받아 원의 넓이를 반환하는 get_area() 함수\"\"\"\n",
        "  area = math.pi * math.pow(radius,2)\n",
        "  return area\n",
        "\n",
        "radius = 1.5\n",
        "# get_area() 함수 호출 결과를 area 변수에 저장\n",
        "area = get_area(radius)\n",
        "print(area)\n",
        "print(get_area.__doc__)\n"
      ],
      "metadata": {
        "colab": {
          "base_uri": "https://localhost:8080/"
        },
        "id": "86US0TOEFCpy",
        "outputId": "70d9a7c9-fc29-45d0-a6f0-b98cae619ffc"
      },
      "execution_count": 7,
      "outputs": [
        {
          "output_type": "stream",
          "name": "stdout",
          "text": [
            "7.0685834705770345\n",
            "반지름을 입력 받아 원의 넓이를 반환하는 get_area() 함수\n"
          ]
        }
      ]
    },
    {
      "cell_type": "code",
      "source": [
        "# 변수 variable\n",
        "\n",
        "# 어떤 데이터를 저장할 때 사용되는 저장소\n",
        "\n",
        "score = 100 # score라는 이름의 변수에 100을 넣는다.\n",
        "print(score)\n",
        "\n",
        "# 변수 이름 생성 규칙\n",
        "# 1. 영문, 한글, 숫자, 밑줄로 구성된다. (한글은 변수명으로 사용하지 말자)\n",
        "# 2. 특수문자는 사용할 수 없다.\n",
        "# 3. 대문자와 소문자는 구분된다.\n",
        "# 4. 변수명의 첫문자에 숫자를 쓸 수 없다.\n",
        "# 5. 예약어(키워드)는 사용할 수 없다.\n",
        "\n",
        "# * 가급적 소문자로만 만든다.\n",
        "# * 가급적 한글은 사용하지 말자.\n",
        "# * 가급적 의미있는 단어를 사용하자.\n"
      ],
      "metadata": {
        "colab": {
          "base_uri": "https://localhost:8080/"
        },
        "id": "EoUa_AuJFO_J",
        "outputId": "ec261b31-89ec-4019-99c6-de908a08fa83"
      },
      "execution_count": 9,
      "outputs": [
        {
          "output_type": "stream",
          "name": "stdout",
          "text": [
            "100\n",
            "100\n",
            "200\n"
          ]
        }
      ]
    },
    {
      "cell_type": "code",
      "source": [
        "address = '''우편번호 12345 \n",
        "서울시 영등포구 여의도동\n",
        "서울빌딩 501호'''\n",
        "# DocString의 장점 줄바꿈도 인식을 한다\n",
        "\n",
        "address2 = '우편번호 12345\\n서울시 영등포구 여의도동\\n서울빌딩 501호'\n",
        "\n",
        "print(address)\n",
        "print(address2)"
      ],
      "metadata": {
        "colab": {
          "base_uri": "https://localhost:8080/"
        },
        "id": "RrIiCfGWHQQD",
        "outputId": "5fc19466-fb21-4ac2-c0fc-15e180997678"
      },
      "execution_count": 14,
      "outputs": [
        {
          "output_type": "stream",
          "name": "stdout",
          "text": [
            "우편번호 12345 \n",
            "서울시 영등포구 여의도동\n",
            "서울빌딩 501호\n",
            "우편번호 12345\n",
            "서울시 영등포구 여의도동\n",
            "서울빌딩 501호\n"
          ]
        }
      ]
    },
    {
      "cell_type": "code",
      "source": [
        ""
      ],
      "metadata": {
        "id": "4aVtMIw1OK1x"
      },
      "execution_count": null,
      "outputs": []
    }
  ]
}