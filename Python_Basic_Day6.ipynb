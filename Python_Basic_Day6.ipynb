{
  "nbformat": 4,
  "nbformat_minor": 0,
  "metadata": {
    "colab": {
      "name": "Python Basic Day6.ipynb",
      "provenance": [],
      "authorship_tag": "ABX9TyNnySH8Mdr2uHYlgEQeksl0",
      "include_colab_link": true
    },
    "kernelspec": {
      "name": "python3",
      "display_name": "Python 3"
    },
    "language_info": {
      "name": "python"
    }
  },
  "cells": [
    {
      "cell_type": "markdown",
      "metadata": {
        "id": "view-in-github",
        "colab_type": "text"
      },
      "source": [
        "<a href=\"https://colab.research.google.com/github/jeungsengho/PythonBasic/blob/main/Python_Basic_Day6.ipynb\" target=\"_parent\"><img src=\"https://colab.research.google.com/assets/colab-badge.svg\" alt=\"Open In Colab\"/></a>"
      ]
    },
    {
      "cell_type": "code",
      "execution_count": 1,
      "metadata": {
        "colab": {
          "base_uri": "https://localhost:8080/"
        },
        "id": "8arodZ82VfAq",
        "outputId": "eb228274-f145-45bd-e405-a0d8894eb88c"
      },
      "outputs": [
        {
          "output_type": "stream",
          "name": "stdout",
          "text": [
            "1\n",
            "2\n",
            "3\n"
          ]
        }
      ],
      "source": [
        "# for문 반복문\n",
        "# 주로 반복횟수를 명확히 알고 있을 때 사용\n",
        "\n",
        "# for 변수 in 반복객체:\n",
        "#   반복실행\n",
        "\n",
        "for i in [1,2,3]:\n",
        "  print(i)"
      ]
    },
    {
      "cell_type": "code",
      "source": [
        "for i in 'Hello':\n",
        "  print(i)"
      ],
      "metadata": {
        "colab": {
          "base_uri": "https://localhost:8080/"
        },
        "id": "BasXh-AFWuAT",
        "outputId": "c3bf6e9b-663a-4520-aa1b-bf82f463291e"
      },
      "execution_count": 2,
      "outputs": [
        {
          "output_type": "stream",
          "name": "stdout",
          "text": [
            "H\n",
            "e\n",
            "l\n",
            "l\n",
            "o\n"
          ]
        }
      ]
    },
    {
      "cell_type": "code",
      "source": [
        "for item in ['가위','바위','보']:\n",
        "  print(item)"
      ],
      "metadata": {
        "colab": {
          "base_uri": "https://localhost:8080/"
        },
        "id": "-BIJfx4OXYmI",
        "outputId": "5c9e3b43-5886-4338-ded6-dcb3393a171d"
      },
      "execution_count": 3,
      "outputs": [
        {
          "output_type": "stream",
          "name": "stdout",
          "text": [
            "가위\n",
            "바위\n",
            "보\n"
          ]
        }
      ]
    },
    {
      "cell_type": "code",
      "source": [
        "# 리스트 내포 : for문을 이용해서 리스트를 간단히 생성한다.\n",
        "\n",
        "[n*2      for n in [1,2,3]]"
      ],
      "metadata": {
        "colab": {
          "base_uri": "https://localhost:8080/"
        },
        "id": "0HcOvMCkXtxQ",
        "outputId": "d3a3dc90-7299-4146-f19b-4de1b360a048"
      },
      "execution_count": 4,
      "outputs": [
        {
          "output_type": "execute_result",
          "data": {
            "text/plain": [
              "[2, 4, 6]"
            ]
          },
          "metadata": {},
          "execution_count": 4
        }
      ]
    },
    {
      "cell_type": "code",
      "source": [
        "[n*2          for n in [1,2,3,4,5]      if n%2 == 1]"
      ],
      "metadata": {
        "colab": {
          "base_uri": "https://localhost:8080/"
        },
        "id": "P0dt-cNDYF9P",
        "outputId": "54e93715-8bd5-4d32-b7ed-f2060fefca29"
      },
      "execution_count": 5,
      "outputs": [
        {
          "output_type": "execute_result",
          "data": {
            "text/plain": [
              "[2, 6, 10]"
            ]
          },
          "metadata": {},
          "execution_count": 5
        }
      ]
    },
    {
      "cell_type": "code",
      "source": [
        "four_seasons = ('Spring', 'Summer', 'Autumn', 'Winter')\n",
        "for season in four_seasons:\n",
        "  print(season)"
      ],
      "metadata": {
        "colab": {
          "base_uri": "https://localhost:8080/"
        },
        "id": "HuA6B35qY09R",
        "outputId": "9914d33c-d48d-424a-bf8b-5253d673c35a"
      },
      "execution_count": 6,
      "outputs": [
        {
          "output_type": "stream",
          "name": "stdout",
          "text": [
            "Spring\n",
            "Summer\n",
            "Autumn\n",
            "Winter\n"
          ]
        }
      ]
    },
    {
      "cell_type": "code",
      "source": [
        "# range() 범위\n",
        "# 정수 범위를 만들어 낼 때 유용한 아주 많이 for문과 사용되는 함수\n",
        "\n",
        "# range(start, stop, step)  # start(0부터), step(1씩 증가) 은 생략 가능, stop(미만)\n",
        "\n",
        "print(list(range(5))) # start 생략, step 생략 0,1,2,3,4     5 미만\n",
        "print(list(range(1,11)))  # stepa 생략 1부터 11미만 1,2,3,4,5,6,7,8,9,10\n",
        "print(tuple(range(5)))"
      ],
      "metadata": {
        "colab": {
          "base_uri": "https://localhost:8080/"
        },
        "id": "maLegyBGZGMA",
        "outputId": "bee09bc9-7ea0-48a6-a6e7-bf173c3c36c3"
      },
      "execution_count": 10,
      "outputs": [
        {
          "output_type": "stream",
          "name": "stdout",
          "text": [
            "[0, 1, 2, 3, 4]\n",
            "[1, 2, 3, 4, 5, 6, 7, 8, 9, 10]\n",
            "(0, 1, 2, 3, 4)\n"
          ]
        }
      ]
    },
    {
      "cell_type": "code",
      "source": [
        "for i in range(5):\n",
        "  print(i)"
      ],
      "metadata": {
        "colab": {
          "base_uri": "https://localhost:8080/"
        },
        "id": "EdTp49N6Z3f4",
        "outputId": "6be82d27-8e03-44b1-e845-abe2360fb21c"
      },
      "execution_count": 11,
      "outputs": [
        {
          "output_type": "stream",
          "name": "stdout",
          "text": [
            "0\n",
            "1\n",
            "2\n",
            "3\n",
            "4\n"
          ]
        }
      ]
    },
    {
      "cell_type": "code",
      "source": [
        "for i in range(1, 11):\n",
        "  print(i)"
      ],
      "metadata": {
        "colab": {
          "base_uri": "https://localhost:8080/"
        },
        "id": "0my2cP4varzT",
        "outputId": "c4b8156f-5fec-4e9a-cd80-612bb75fa61f"
      },
      "execution_count": 12,
      "outputs": [
        {
          "output_type": "stream",
          "name": "stdout",
          "text": [
            "1\n",
            "2\n",
            "3\n",
            "4\n",
            "5\n",
            "6\n",
            "7\n",
            "8\n",
            "9\n",
            "10\n"
          ]
        }
      ]
    },
    {
      "cell_type": "code",
      "source": [
        "for i in range(1, 11):\n",
        "  print('Hi')"
      ],
      "metadata": {
        "colab": {
          "base_uri": "https://localhost:8080/"
        },
        "id": "1LxH4xB2azWc",
        "outputId": "c03f00f1-2ffb-497f-fa87-b6c8b021d22d"
      },
      "execution_count": 13,
      "outputs": [
        {
          "output_type": "stream",
          "name": "stdout",
          "text": [
            "Hi\n",
            "Hi\n",
            "Hi\n",
            "Hi\n",
            "Hi\n",
            "Hi\n",
            "Hi\n",
            "Hi\n",
            "Hi\n",
            "Hi\n"
          ]
        }
      ]
    },
    {
      "cell_type": "code",
      "source": [
        "dan = int(input('출력할 구구단을 입력하세요 >>>'))\n",
        "for n in range(1, 10):\n",
        "  print(f'{dan} * {n} = {dan*n}')"
      ],
      "metadata": {
        "colab": {
          "base_uri": "https://localhost:8080/"
        },
        "id": "JTegvD2Wa6yc",
        "outputId": "ea605540-40b7-442c-ebae-b184690bf2d9"
      },
      "execution_count": 14,
      "outputs": [
        {
          "output_type": "stream",
          "name": "stdout",
          "text": [
            "출력할 구구단을 입력하세요 >>>5\n",
            "5 * 1 = 5\n",
            "5 * 2 = 10\n",
            "5 * 3 = 15\n",
            "5 * 4 = 20\n",
            "5 * 5 = 25\n",
            "5 * 6 = 30\n",
            "5 * 7 = 35\n",
            "5 * 8 = 40\n",
            "5 * 9 = 45\n"
          ]
        }
      ]
    },
    {
      "cell_type": "code",
      "source": [
        "for item in {'가위', '바위', '보'}:\n",
        "  print(item)"
      ],
      "metadata": {
        "colab": {
          "base_uri": "https://localhost:8080/"
        },
        "id": "JMa8QY_ibkbm",
        "outputId": "05815693-019f-42b1-b43f-384826232150"
      },
      "execution_count": 15,
      "outputs": [
        {
          "output_type": "stream",
          "name": "stdout",
          "text": [
            "보\n",
            "가위\n",
            "바위\n"
          ]
        }
      ]
    },
    {
      "cell_type": "code",
      "source": [
        "person = {'name' : '에밀리', 'age' : 20}\n",
        "for item in person:\n",
        "  print(item, person[item])"
      ],
      "metadata": {
        "colab": {
          "base_uri": "https://localhost:8080/"
        },
        "id": "DNPfuno6bvqZ",
        "outputId": "66d04913-3357-4eff-af5d-fdab66540f01"
      },
      "execution_count": 20,
      "outputs": [
        {
          "output_type": "stream",
          "name": "stdout",
          "text": [
            "name 에밀리\n",
            "age 20\n"
          ]
        }
      ]
    },
    {
      "cell_type": "code",
      "source": [
        "# 129page\n",
        "# 1\n",
        "\n",
        "for i in range(5,0,-1):\n",
        "  print(i)"
      ],
      "metadata": {
        "colab": {
          "base_uri": "https://localhost:8080/"
        },
        "id": "6B4_1J2KcJOK",
        "outputId": "a1849ec6-fe4a-4bc5-80fd-06f3061a3d9b"
      },
      "execution_count": 21,
      "outputs": [
        {
          "output_type": "stream",
          "name": "stdout",
          "text": [
            "5\n",
            "4\n",
            "3\n",
            "2\n",
            "1\n"
          ]
        }
      ]
    },
    {
      "cell_type": "code",
      "source": [
        "# 2\n",
        "\n",
        "num = int(input('임의의 양수를 입력하세요 >>>'))\n",
        "sum = 0       # 초기값 설정\n",
        "\n",
        "for i in range(1, num+1):\n",
        "  sum = sum + i         # sum += i\n",
        "  print(sum)\n",
        "\n",
        "print(f'1부터 {num}사이 모든 정수의 합계는 {sum}입니다.')"
      ],
      "metadata": {
        "colab": {
          "base_uri": "https://localhost:8080/"
        },
        "id": "Tn2v0oe0c2Xp",
        "outputId": "98896e71-dc58-4948-c8fa-82ed20482ab9"
      },
      "execution_count": 23,
      "outputs": [
        {
          "output_type": "stream",
          "name": "stdout",
          "text": [
            "임의의 양수를 입력하세요 >>>5\n",
            "1\n",
            "3\n",
            "6\n",
            "10\n",
            "15\n",
            "1부터 5사이 모든 정수의 합계는 15입니다.\n"
          ]
        }
      ]
    },
    {
      "cell_type": "code",
      "source": [
        " # 3\n",
        "\n",
        "no = int(input('몇 개의 과일을 보관할까요? >>>'))\n",
        "fruits = []\n",
        "\n",
        "for i in range(1, no+1):\n",
        "  fruit = input(f'{i}번째 과일을 입력하세요 >>>')\n",
        "  fruits.append(fruit)\n",
        "\n",
        "print(f'입력받은 과일들은 {fruits}입니다.')"
      ],
      "metadata": {
        "colab": {
          "base_uri": "https://localhost:8080/"
        },
        "id": "CkJu6ZdPdp7B",
        "outputId": "15cd5783-e8ac-4c9a-df44-95d866dfc491"
      },
      "execution_count": 30,
      "outputs": [
        {
          "output_type": "stream",
          "name": "stdout",
          "text": [
            "몇 개의 과일을 보관할까요? >>>5\n",
            "1번째 과일을 입력하세요 >>>사과\n",
            "2번째 과일을 입력하세요 >>>바나나\n",
            "3번째 과일을 입력하세요 >>>체리\n",
            "4번째 과일을 입력하세요 >>>오렌지\n",
            "5번째 과일을 입력하세요 >>>망고\n",
            "입력받은 과일들은 ['사과', '바나나', '체리', '오렌지', '망고']입니다.\n"
          ]
        }
      ]
    },
    {
      "cell_type": "code",
      "source": [
        "# 4\n",
        "\n",
        "exam = [99,78,100,91,81,85,54,100,71,50]\n",
        "\n",
        "exam2 = []\n",
        "\n",
        "for i in exam:\n",
        "  if i ==100:\n",
        "    exam2.append(100)\n",
        "  elif i >= 95:\n",
        "    exam2.append(100)\n",
        "  else:\n",
        "    exam2.append(i+5)\n",
        "\n",
        "print(exam2)"
      ],
      "metadata": {
        "colab": {
          "base_uri": "https://localhost:8080/"
        },
        "id": "o9ZABCFHtLez",
        "outputId": "399547a5-d4af-48f7-ac20-e15461df44b1"
      },
      "execution_count": 32,
      "outputs": [
        {
          "output_type": "stream",
          "name": "stdout",
          "text": [
            "[100, 83, 100, 96, 86, 90, 59, 100, 76, 55]\n"
          ]
        }
      ]
    },
    {
      "cell_type": "code",
      "source": [
        "# 5\n",
        "\n",
        "for i in range(1, 100):\n",
        "  s = str(i)\n",
        "\n",
        "  count = 0\n",
        "\n",
        "  for x in s:\n",
        "    if (x=='3') or (x=='6') or (x=='9'):\n",
        "      count += 1\n",
        "  if count == 0:\n",
        "    print(i, end=' ')\n",
        "\n",
        "  else:\n",
        "    print(count*'짝', end=' ')"
      ],
      "metadata": {
        "colab": {
          "base_uri": "https://localhost:8080/"
        },
        "id": "mM-Hse16u73a",
        "outputId": "b5e87c85-8445-431c-c241-34ad77e58689"
      },
      "execution_count": 42,
      "outputs": [
        {
          "output_type": "stream",
          "name": "stdout",
          "text": [
            "1 2 짝 4 5 짝 7 8 짝 10 11 12 짝 14 15 짝 17 18 짝 20 21 22 짝 24 25 짝 27 28 짝 짝 짝 짝 짝짝 짝 짝 짝짝 짝 짝 짝짝 40 41 42 짝 44 45 짝 47 48 짝 50 51 52 짝 54 55 짝 57 58 짝 짝 짝 짝 짝짝 짝 짝 짝짝 짝 짝 짝짝 70 71 72 짝 74 75 짝 77 78 짝 80 81 82 짝 84 85 짝 87 88 짝 짝 짝 짝 짝짝 짝 짝 짝짝 짝 짝 짝짝 "
          ]
        }
      ]
    },
    {
      "cell_type": "code",
      "source": [
        "# break\n",
        "\n",
        "# while 문이나 for문에서 반복을 강제로 종료시킬 때 사용\n",
        "\n",
        "n = 1\n",
        "while n <= 10:\n",
        "  print(n)\n",
        "  n += 1\n",
        "  "
      ],
      "metadata": {
        "colab": {
          "base_uri": "https://localhost:8080/"
        },
        "id": "9IHUZzxNuMR1",
        "outputId": "a331221d-c53b-4dbd-b70d-2416caf59c22"
      },
      "execution_count": 33,
      "outputs": [
        {
          "output_type": "stream",
          "name": "stdout",
          "text": [
            "1\n",
            "2\n",
            "3\n",
            "4\n",
            "5\n",
            "6\n",
            "7\n",
            "8\n",
            "9\n",
            "10\n"
          ]
        }
      ]
    },
    {
      "cell_type": "code",
      "source": [
        "n = 1\n",
        "while True:\n",
        "  print(n)\n",
        "  if n == 10:\n",
        "    break\n",
        "  n += 1\n"
      ],
      "metadata": {
        "colab": {
          "base_uri": "https://localhost:8080/"
        },
        "id": "f3of0PtGvyrQ",
        "outputId": "cdc7f700-46a2-416f-b4a5-dec7cd35f4d9"
      },
      "execution_count": 35,
      "outputs": [
        {
          "output_type": "stream",
          "name": "stdout",
          "text": [
            "1\n",
            "2\n",
            "3\n",
            "4\n",
            "5\n",
            "6\n",
            "7\n",
            "8\n",
            "9\n",
            "10\n"
          ]
        }
      ]
    },
    {
      "cell_type": "code",
      "source": [
        "# 예제1 \n",
        "\n",
        "while True:\n",
        "  city = input('대한민국의 수도는 어디인가요? >>>')\n",
        "  if city == '서울' or city == 'seoul' or city == 'SEOUL':\n",
        "    print('정답입니다.')\n",
        "    break\n",
        "  else:\n",
        "    print('오답입니다. 다시 시도하세요.')"
      ],
      "metadata": {
        "colab": {
          "base_uri": "https://localhost:8080/"
        },
        "id": "RcR1Dpdi02dN",
        "outputId": "4b413b64-abeb-498b-94bf-a411cb49e5c3"
      },
      "execution_count": 44,
      "outputs": [
        {
          "output_type": "stream",
          "name": "stdout",
          "text": [
            "대한민국의 수도는 어디인가요? >>>서울\n",
            "정답입니다.\n"
          ]
        }
      ]
    },
    {
      "cell_type": "code",
      "source": [
        "# 예제2\n",
        "\n"
      ],
      "metadata": {
        "id": "zvDajBpb1M90"
      },
      "execution_count": null,
      "outputs": []
    },
    {
      "cell_type": "code",
      "source": [
        "# continue\n",
        "\n",
        "# 반복 도중에 continue를 만나면 더 이상 아래로 내려가지 않고\n",
        "# 다시 반복문으로 진입한다.\n",
        "\n",
        "total = 0\n",
        "\n",
        "for a in range(1, 101):\n",
        "  if a % 3 == 0:  # 3의 배수 찾기\n",
        "    continue      # 3의 배수를 제외한 합\n",
        "  total += a\n",
        "print(total)"
      ],
      "metadata": {
        "colab": {
          "base_uri": "https://localhost:8080/"
        },
        "id": "zpdi5koIv5-i",
        "outputId": "55a5f83a-c51b-48df-8760-8a6143b42344"
      },
      "execution_count": 43,
      "outputs": [
        {
          "output_type": "stream",
          "name": "stdout",
          "text": [
            "3367\n"
          ]
        }
      ]
    },
    {
      "cell_type": "code",
      "source": [
        ""
      ],
      "metadata": {
        "id": "1jvQYitb0ay7"
      },
      "execution_count": null,
      "outputs": []
    }
  ]
}